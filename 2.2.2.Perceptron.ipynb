{
 "cells": [
  {
   "cell_type": "code",
   "execution_count": 1,
   "metadata": {},
   "outputs": [],
   "source": [
    "import numpy as np\n",
    "import torch\n",
    "import matplotlib.pyplot as plt\n",
    "from utils import draw_function, check_gate, plot_dots, plot_line, draw_solution, draw_solution_by_step"
   ]
  },
  {
   "cell_type": "code",
   "execution_count": 2,
   "metadata": {},
   "outputs": [
    {
     "data": {
      "image/png": "[encoded data removed]",
      "text/plain": [
       "<Figure size 432x288 with 1 Axes>"
      ]
     },
     "metadata": {
      "needs_background": "light"
     },
     "output_type": "display_data"
    }
   ],
   "source": [
    "def STEP(z):\n",
    "    \"\"\"STEP function\"\"\"\n",
    "    return z > 0\n",
    "\n",
    "draw_function(STEP)\n",
    "\n",
    "def AND(x, w, b):\n",
    "    z = torch.dot(x, w) + b\n",
    "    a = STEP(z)\n",
    "    return a\n",
    "\n",
    "def NAND(x, w, b):\n",
    "    z = torch.dot(x, w) + b\n",
    "    a = STEP(z)\n",
    "    return a\n",
    "\n",
    "def OR(x, w, b):\n",
    "    z = torch.dot(x, w) + b\n",
    "    a = STEP(z)\n",
    "    return a"
   ]
  },
  {
   "cell_type": "code",
   "execution_count": 3,
   "metadata": {
    "scrolled": true
   },
   "outputs": [
    {
     "name": "stdout",
     "output_type": "stream",
     "text": [
      "input: [0, 0]\n",
      " - AND: False\n",
      " - NAND: True\n",
      "------------------------------\n",
      "input: [0, 1]\n",
      " - AND: False\n",
      " - NAND: True\n",
      "------------------------------\n",
      "input: [1, 0]\n",
      " - AND: False\n",
      " - NAND: True\n",
      "------------------------------\n",
      "input: [1, 1]\n",
      " - AND: True\n",
      " - NAND: False\n",
      "------------------------------\n"
     ]
    }
   ],
   "source": [
    "w_and = torch.Tensor([0.5, 0.5])\n",
    "b_and = torch.Tensor([-0.7])\n",
    "w_nand = torch.Tensor([-0.5, -0.5])\n",
    "b_nand = torch.Tensor([0.7])\n",
    "w_or = torch.Tensor([0.5, 0.5])\n",
    "b_or = torch.Tensor([0.2])\n",
    "\n",
    "X = torch.Tensor([[0,0], [0,1], [1,0], [1,1]])\n",
    "for x in X:\n",
    "    print(\"input: {}\".format(x.long().tolist()))\n",
    "    print(\" - AND:\", AND(x, w=w_and, b=b_and).item())\n",
    "    print(\" - NAND:\", NAND(x, w=w_nand, b=b_nand).item())\n",
    "    print(\"--\"*15)\n"
   ]
  },
  {
   "cell_type": "code",
   "execution_count": 4,
   "metadata": {},
   "outputs": [
    {
     "name": "stdout",
     "output_type": "stream",
     "text": [
      "predict: [ True]| target: 0\n",
      "predict: [ True]| target: 1\n",
      "predict: [ True]| target: 1\n",
      "predict: [False]| target: 0\n"
     ]
    }
   ],
   "source": [
    "# XOR 문제 해결법\n",
    "def solution(x, **kwargs):\n",
    "    s1 = NAND(x, w=kwargs['w_nand'], b=kwargs['b_nand'])\n",
    "    s2 = OR(x, w=kwargs['w_or'], b=kwargs['b_or'])\n",
    "    y = AND(torch.Tensor([s1, s2]), w=kwargs['w_and'], b=kwargs['b_and'])\n",
    "    return y\n",
    "\n",
    "input_data = torch.FloatTensor([[0,0], [1,0], [0,1], [1,1]])\n",
    "target_data = torch.ByteTensor([0, 1, 1, 0])\n",
    "\n",
    "kwargs = dict([('w_nand', w_nand), ('b_nand', b_nand),\n",
    "               ('w_or', w_or), ('b_or', b_or),\n",
    "               ('w_and', w_and), ('b_and', b_and)])\n",
    "\n",
    "#Test\n",
    "for x, y in zip(input_data, target_data):\n",
    "    pred = solution(x, **kwargs)\n",
    "    print(\"predict: {}| target: {}\".format(pred.numpy(), y.numpy()))"
   ]
  },
  {
   "cell_type": "code",
   "execution_count": 6,
   "metadata": {},
   "outputs": [],
   "source": [
    "torch.manual_seed(70)\n",
    "\n",
    "x= torch.Tensor([[0, 1]])\n",
    "\n",
    "W1 = torch.rand((2,2))\n",
    "b1 = torch.rand((1,2))\n",
    "\n",
    "z1 = torch.mm(x, W1.t())+b1\n",
    "a1 = torch.sigmoid(z1) # 은닉층의 출력 벡터\n"
   ]
  },
  {
   "cell_type": "code",
   "execution_count": 7,
   "metadata": {},
   "outputs": [],
   "source": [
    "def identity_func(x):\n",
    "    \"\"\"항등함수\"\"\"\n",
    "    return x\n",
    "\n",
    "W2 = torch.rand((1,2))\n",
    "b2 = torch.rand((1,1))\n",
    "\n",
    "z2 = torch.mm(a1, W2.t()) + b2\n",
    "y = identity_func(z2)"
   ]
  },
  {
   "cell_type": "code",
   "execution_count": 8,
   "metadata": {},
   "outputs": [
    {
     "name": "stdout",
     "output_type": "stream",
     "text": [
      "-0.00274629145860672\n"
     ]
    }
   ],
   "source": [
    "import torch.nn as nn # 신경망과 관련된 모듈들\n",
    "\n",
    "linear_ih = nn.Linear(in_features=2, out_features=2)\n",
    "linear_ho = nn.Linear(in_features=2, out_features=1)\n",
    "activation_layer = nn.Sigmoid()\n",
    "\n",
    "z1 = linear_ih(x)\n",
    "a1 = activation_layer(z1)\n",
    "z2 = linear_ho(a1)\n",
    "y = identity_func(z2)\n",
    "print(y.item())\n"
   ]
  }
 ],
 "metadata": {
  "kernelspec": {
   "display_name": "Python(torchenv)",
   "language": "python",
   "name": "torchenv"
  },
  "language_info": {
   "codemirror_mode": {
    "name": "ipython",
    "version": 3
   },
   "file_extension": ".py",
   "mimetype": "text/x-python",
   "name": "python",
   "nbconvert_exporter": "python",
   "pygments_lexer": "ipython3",
   "version": "3.7.5"
  }
 },
 "nbformat": 4,
 "nbformat_minor": 2
}
