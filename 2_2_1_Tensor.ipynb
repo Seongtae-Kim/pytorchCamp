{
  "nbformat": 4,
  "nbformat_minor": 0,
  "metadata": {
    "colab": {
      "name": "2.2.1. Tensor.ipynb",
      "provenance": [],
      "collapsed_sections": []
    },
    "kernelspec": {
      "name": "python3",
      "display_name": "Python 3"
    },
    "accelerator": "GPU"
  },
  "cells": [
    {
      "cell_type": "code",
      "metadata": {
        "id": "5U1UGukx69s3",
        "colab_type": "code",
        "colab": {}
      },
      "source": [
        "# 2.2.1. Tensor /20191226\n",
        "import torch, numpy as np, matplotlib.pyplot as plt"
      ],
      "execution_count": 0,
      "outputs": []
    },
    {
      "cell_type": "code",
      "metadata": {
        "id": "exrlOPc-lhAh",
        "colab_type": "code",
        "colab": {
          "base_uri": "https://localhost:8080/",
          "height": 321
        },
        "outputId": "602efe40-0744-45ff-aaca-e93637c4dd89"
      },
      "source": [
        "# Creating Tensor / p.71\n",
        "#--------------------------------------------------\n",
        "\n",
        "# list로부터 2x3 텐서 생성\n",
        "x_list = [[1,2,3], [4,5,6]]\n",
        "x = torch.Tensor(x_list)\n",
        "print(x)\n",
        "plt.imshow(x)"
      ],
      "execution_count": 28,
      "outputs": [
        {
          "output_type": "stream",
          "text": [
            "tensor([[1., 2., 3.],\n",
            "        [4., 5., 6.]])\n"
          ],
          "name": "stdout"
        },
        {
          "output_type": "execute_result",
          "data": {
            "text/plain": [
              "<matplotlib.image.AxesImage at 0x7fc1f0e50e48>"
            ]
          },
          "metadata": {
            "tags": []
          },
          "execution_count": 28
        },
        {
          "output_type": "display_data",
          "data": {
            "image/png": "[encoded data removed]",
            "text/plain": [
              "<Figure size 432x288 with 1 Axes>"
            ]
          },
          "metadata": {
            "tags": []
          }
        }
      ]
    },
    {
      "cell_type": "code",
      "metadata": {
        "id": "VGTYig4XozmQ",
        "colab_type": "code",
        "colab": {
          "base_uri": "https://localhost:8080/",
          "height": 321
        },
        "outputId": "7ce9ce04-184b-4dfb-b1eb-527cbcaa5a80"
      },
      "source": [
        "# numpy array로부터 2x3 텐서 생성\n",
        "x_numpy = np.array([[1, 2, 3],[4, 5, 6]])\n",
        "x = torch.Tensor(np.array([[9, 6, 1],[5, 3, 2]]))\n",
        "print(x)\n",
        "plt.imshow(x_numpy)"
      ],
      "execution_count": 14,
      "outputs": [
        {
          "output_type": "stream",
          "text": [
            "tensor([[9., 6., 1.],\n",
            "        [5., 3., 2.]])\n"
          ],
          "name": "stdout"
        },
        {
          "output_type": "execute_result",
          "data": {
            "text/plain": [
              "<matplotlib.image.AxesImage at 0x7fc1f118f358>"
            ]
          },
          "metadata": {
            "tags": []
          },
          "execution_count": 14
        },
        {
          "output_type": "display_data",
          "data": {
            "image/png": "[encoded data removed]",
            "text/plain": [
              "<Figure size 432x288 with 1 Axes>"
            ]
          },
          "metadata": {
            "tags": []
          }
        }
      ]
    },
    {
      "cell_type": "code",
      "metadata": {
        "id": "FpzfMHW9V3V8",
        "colab_type": "code",
        "outputId": "8fc4cf0a-fad4-4c1b-913c-0358046b5ee2",
        "colab": {
          "base_uri": "https://localhost:8080/",
          "height": 52
        }
      },
      "source": [
        "# .tolist() ---> list타입으로 형변환\n",
        "x_back2list =x.tolist()\n",
        "print(type(x_back2list))\n",
        "\n",
        "# .numpy() ---> numpy타입으로 형변환\n",
        "x_back2numpy = x.numpy()\n",
        "print(type(x_back2numpy))"
      ],
      "execution_count": 3,
      "outputs": [
        {
          "output_type": "stream",
          "text": [
            "<class 'list'>\n",
            "<class 'numpy.ndarray'>\n"
          ],
          "name": "stdout"
        }
      ]
    },
    {
      "cell_type": "code",
      "metadata": {
        "id": "BAsghuesV6Su",
        "colab_type": "code",
        "outputId": "c6f2c268-26af-41ed-e299-e10557b109e8",
        "colab": {
          "base_uri": "https://localhost:8080/",
          "height": 69
        }
      },
      "source": [
        "# 기본적으로 텐서 생성시 CPU의 상태 디바이스 정보를 포함한다.\n",
        "print(x.device)\n",
        "\n",
        "#cuda를 사용할 수 없을 경우(Colab 외부) !pip install pycuda로 설치\n",
        "device = torch.device(\"cuda\" if torch.cuda.is_available() else \"error\")\n",
        "#GPU 사용\n",
        "x = x.to(device)\n",
        "print(x.device)\n",
        "\n",
        "device='cpu'\n",
        "#CPU 사용\n",
        "x = x.to(device)\n",
        "print(x.device)"
      ],
      "execution_count": 4,
      "outputs": [
        {
          "output_type": "stream",
          "text": [
            "cpu\n",
            "cuda:0\n",
            "cpu\n"
          ],
          "name": "stdout"
        }
      ]
    },
    {
      "cell_type": "code",
      "metadata": {
        "id": "Juaqt06CWinR",
        "colab_type": "code",
        "outputId": "0461b0e2-4fe2-4b1e-e32b-6a5e769208a8",
        "colab": {
          "base_uri": "https://localhost:8080/",
          "height": 321
        }
      },
      "source": [
        "#랜덤 숫자로 구성된 크기가 2x3인 텐서 생성\n",
        "#0과 1사이의 랜덤한 숫자\n",
        "twoThree = torch.rand(2,3)\n",
        "print(twoThree)\n",
        "plt.imshow(twoThree)\n"
      ],
      "execution_count": 15,
      "outputs": [
        {
          "output_type": "stream",
          "text": [
            "tensor([[0.8282, 0.6459, 0.5544],\n",
            "        [0.3703, 0.0696, 0.3870]])\n"
          ],
          "name": "stdout"
        },
        {
          "output_type": "execute_result",
          "data": {
            "text/plain": [
              "<matplotlib.image.AxesImage at 0x7fc1f10f1780>"
            ]
          },
          "metadata": {
            "tags": []
          },
          "execution_count": 15
        },
        {
          "output_type": "display_data",
          "data": {
            "image/png": "[encoded data removed]",
            "text/plain": [
              "<Figure size 432x288 with 1 Axes>"
            ]
          },
          "metadata": {
            "tags": []
          }
        }
      ]
    },
    {
      "cell_type": "code",
      "metadata": {
        "id": "B5NPhAk4pHEi",
        "colab_type": "code",
        "colab": {
          "base_uri": "https://localhost:8080/",
          "height": 321
        },
        "outputId": "e0755656-239e-439f-a0b4-170ac738ddf9"
      },
      "source": [
        "# 0과 8사이의 정수형 랜덤한 숫자\n",
        "random = torch.randint(low=0, high=8, size=(2,3))\n",
        "print(random)\n",
        "plt.imshow(random)"
      ],
      "execution_count": 19,
      "outputs": [
        {
          "output_type": "stream",
          "text": [
            "tensor([[6, 4, 7],\n",
            "        [5, 4, 5]])\n"
          ],
          "name": "stdout"
        },
        {
          "output_type": "execute_result",
          "data": {
            "text/plain": [
              "<matplotlib.image.AxesImage at 0x7fc1f103e470>"
            ]
          },
          "metadata": {
            "tags": []
          },
          "execution_count": 19
        },
        {
          "output_type": "display_data",
          "data": {
            "image/png": "[encoded data removed]",
            "text/plain": [
              "<Figure size 432x288 with 1 Axes>"
            ]
          },
          "metadata": {
            "tags": []
          }
        }
      ]
    },
    {
      "cell_type": "code",
      "metadata": {
        "id": "GzknY6I9XFxr",
        "colab_type": "code",
        "outputId": "91943da5-11c3-4b06-e74e-7ca94d6a6842",
        "colab": {
          "base_uri": "https://localhost:8080/",
          "height": 338
        }
      },
      "source": [
        "# GPU를 사용하고 크기가 x와 같은 0으로 채워진 텐서 생성\n",
        "x_zeros = torch.zeros_like(x.cuda())\n",
        "print(x_zeros.device)\n",
        "print(x_zeros)\n",
        "plt.imshow(x_zeros.tolist()) # numpy 형이기 때문에 표시를 위해 list로 형변환"
      ],
      "execution_count": 21,
      "outputs": [
        {
          "output_type": "stream",
          "text": [
            "cuda:0\n",
            "tensor([[0., 0., 0.],\n",
            "        [0., 0., 0.]], device='cuda:0')\n"
          ],
          "name": "stdout"
        },
        {
          "output_type": "execute_result",
          "data": {
            "text/plain": [
              "<matplotlib.image.AxesImage at 0x7fc1f0fb54e0>"
            ]
          },
          "metadata": {
            "tags": []
          },
          "execution_count": 21
        },
        {
          "output_type": "display_data",
          "data": {
            "image/png": "[encoded data removed]",
            "text/plain": [
              "<Figure size 432x288 with 1 Axes>"
            ]
          },
          "metadata": {
            "tags": []
          }
        }
      ]
    },
    {
      "cell_type": "code",
      "metadata": {
        "id": "BHmO25tXkKWb",
        "colab_type": "code",
        "colab": {
          "base_uri": "https://localhost:8080/",
          "height": 156
        },
        "outputId": "c9a716be-fdbe-4b5c-fb4a-8b123b0a871e"
      },
      "source": [
        "# Types of Tensor / p.73\n",
        "#--------------------------------------------------\n",
        "\n",
        "#실수형 텐서\n",
        "a = torch.FloatTensor(np.array([[3.14, 1.592, 2.3],[4.2, 5.1, 6.6]])) # 실수형이기 때문에 소숫점 표기\n",
        "print(a.type())\n",
        "print(a)\n",
        "\n",
        "#정수형 텐서\n",
        "b = torch.LongTensor(np.array([[1, 2, 3],[4, 5, 6]]))\n",
        "print(b.type())\n",
        "print(b)\n",
        "\n",
        "#8 bit 정수형 텐기\n",
        "c = torch.ByteTensor(np.array([True, False, True, True]))\n",
        "print(c.type())\n",
        "print(c)\n"
      ],
      "execution_count": 22,
      "outputs": [
        {
          "output_type": "stream",
          "text": [
            "torch.FloatTensor\n",
            "tensor([[3.1400, 1.5920, 2.3000],\n",
            "        [4.2000, 5.1000, 6.6000]])\n",
            "torch.LongTensor\n",
            "tensor([[1, 2, 3],\n",
            "        [4, 5, 6]])\n",
            "torch.ByteTensor\n",
            "tensor([1, 0, 1, 1], dtype=torch.uint8)\n"
          ],
          "name": "stdout"
        }
      ]
    },
    {
      "cell_type": "code",
      "metadata": {
        "id": "4kR-AKNomiqn",
        "colab_type": "code",
        "colab": {
          "base_uri": "https://localhost:8080/",
          "height": 450
        },
        "outputId": "1b6d3622-abae-472a-ac31-5f9bd0e7e5c5"
      },
      "source": [
        "#Manipulation of Tensor / p.74\n",
        "# 1. Element selection: Slicing\n",
        "#--------------------------------------------------\n",
        "\n",
        "torch.manual_seed(777)\n",
        "threeDList = torch.randint(0, 10, size=(2, 3, 4))\n",
        "print(threeDList)\n",
        "\n",
        "#print(len(threeDList[0][0])) # 열 개수\n",
        "#print(len(threeDList[0])) # 행 개수\n",
        "#print(len(threeDList)) # 면 개수\n",
        "\n",
        "d1 = [[0 for x in range(len(threeDList[0][0]))] for y in range(len(threeDList[0]))]\n",
        "d2 = [[0 for x in range(len(threeDList[0][0]))] for y in range(len(threeDList[0]))]\n",
        "\n",
        "# 2차원 리스트로 분리\n",
        "for i in range(len(threeDList)): # 면\n",
        "  for j in range(len(threeDList[0])): # 행\n",
        "    for k in range(len(threeDList[0][0])): # 열\n",
        "      if(i == 0):\n",
        "        d1[j][k] = threeDList[i][j][k]\n",
        "      elif(i == 1):\n",
        "        d2[j][k] = threeDList[i][j][k]\n",
        "    \n",
        "print(d1)\n",
        "print(d2)\n",
        "d1 = torch.Tensor(d1)\n",
        "d2 = torch.Tensor(d2)\n",
        "\n",
        "\n",
        "# 2차원 텐서를 나란히 표시\n",
        "fig = plt.figure(figsize=(10,10))\n",
        "fig.add_subplot(1, 2, 1)\n",
        "plt.imshow(d1)\n",
        "fig.add_subplot(1, 2, 2)\n",
        "plt.imshow(d2)\n",
        "plt.show()\n",
        "\n"
      ],
      "execution_count": 76,
      "outputs": [
        {
          "output_type": "stream",
          "text": [
            "tensor([[[5, 9, 1, 8],\n",
            "         [5, 7, 7, 7],\n",
            "         [3, 4, 1, 7]],\n",
            "\n",
            "        [[2, 0, 6, 3],\n",
            "         [2, 3, 0, 0],\n",
            "         [9, 5, 4, 2]]])\n",
            "4\n",
            "3\n",
            "2\n",
            "[[tensor(5), tensor(9), tensor(1), tensor(8)], [tensor(5), tensor(7), tensor(7), tensor(7)], [tensor(3), tensor(4), tensor(1), tensor(7)]]\n",
            "[[tensor(2), tensor(0), tensor(6), tensor(3)], [tensor(2), tensor(3), tensor(0), tensor(0)], [tensor(9), tensor(5), tensor(4), tensor(2)]]\n"
          ],
          "name": "stdout"
        },
        {
          "output_type": "display_data",
          "data": {
            "image/png": "[encoded data removed]",
            "text/plain": [
              "<Figure size 720x720 with 2 Axes>"
            ]
          },
          "metadata": {
            "tags": []
          }
        }
      ]
    },
    {
      "cell_type": "code",
      "metadata": {
        "id": "e7dbf4Aj7N0K",
        "colab_type": "code",
        "outputId": "e73fa550-b13b-4e06-e97a-597bd539cff8",
        "colab": {
          "base_uri": "https://localhost:8080/",
          "height": 156
        }
      },
      "source": [
        "A = torch.rand((2, 3))\n",
        "print(A)\n",
        "B = torch.rand((2, 3))\n",
        "print(B)\n",
        "AB_cated = torch.cat([A, B], dim=0)\n",
        "print(AB_cated)"
      ],
      "execution_count": 9,
      "outputs": [
        {
          "output_type": "stream",
          "text": [
            "tensor([[0.9411, 0.9180, 0.8952],\n",
            "        [0.4341, 0.1523, 0.3154]])\n",
            "tensor([[0.3771, 0.6166, 0.5355],\n",
            "        [0.9970, 0.3777, 0.9541]])\n",
            "tensor([[0.9411, 0.9180, 0.8952],\n",
            "        [0.4341, 0.1523, 0.3154],\n",
            "        [0.3771, 0.6166, 0.5355],\n",
            "        [0.9970, 0.3777, 0.9541]])\n"
          ],
          "name": "stdout"
        }
      ]
    }
  ]
}