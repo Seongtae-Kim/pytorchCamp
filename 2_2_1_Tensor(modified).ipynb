{
 "cells": [
  {
   "cell_type": "code",
   "execution_count": 1,
   "metadata": {},
   "outputs": [],
   "source": [
    "# 2.2.1. Tensor /20191226\n",
    "import torch, numpy as np, matplotlib.pyplot as plt"
   ]
  },
  {
   "cell_type": "code",
   "execution_count": 2,
   "metadata": {},
   "outputs": [
    {
     "name": "stdout",
     "output_type": "stream",
     "text": [
      "tensor([[1., 2., 3.],\n",
      "        [4., 5., 6.]])\n"
     ]
    },
    {
     "data": {
      "text/plain": [
       "<matplotlib.image.AxesImage at 0x7f5731d02f90>"
      ]
     },
     "execution_count": 2,
     "metadata": {},
     "output_type": "execute_result"
    },
    {
     "data": {
      "image/png": "[encoded data removed]",
      "text/plain": [
       "<Figure size 432x288 with 1 Axes>"
      ]
     },
     "metadata": {
      "needs_background": "light"
     },
     "output_type": "display_data"
    }
   ],
   "source": [
    "# Creating Tensor / p.71\n",
    "#--------------------------------------------------\n",
    "\n",
    "# list로부터 2x3 텐서 생성\n",
    "x_list = [[1,2,3], [4,5,6]]\n",
    "x = torch.Tensor(x_list)\n",
    "print(x)\n",
    "plt.imshow(x)"
   ]
  },
  {
   "cell_type": "code",
   "execution_count": 3,
   "metadata": {},
   "outputs": [
    {
     "name": "stdout",
     "output_type": "stream",
     "text": [
      "tensor([[9., 6., 1.],\n",
      "        [5., 3., 2.]])\n"
     ]
    },
    {
     "data": {
      "text/plain": [
       "<matplotlib.image.AxesImage at 0x7f5731c4b390>"
      ]
     },
     "execution_count": 3,
     "metadata": {},
     "output_type": "execute_result"
    },
    {
     "data": {
      "image/png": "[encoded data removed]",
      "text/plain": [
       "<Figure size 432x288 with 1 Axes>"
      ]
     },
     "metadata": {
      "needs_background": "light"
     },
     "output_type": "display_data"
    }
   ],
   "source": [
    "# numpy array로부터 2x3 텐서 생성\n",
    "x_numpy = np.array([[1, 2, 3],[4, 5, 6]])\n",
    "x = torch.Tensor(np.array([[9, 6, 1],[5, 3, 2]]))\n",
    "print(x)\n",
    "plt.imshow(x_numpy)"
   ]
  },
  {
   "cell_type": "code",
   "execution_count": 4,
   "metadata": {},
   "outputs": [
    {
     "name": "stdout",
     "output_type": "stream",
     "text": [
      "<class 'list'>\n",
      "<class 'numpy.ndarray'>\n"
     ]
    }
   ],
   "source": [
    "# .tolist() ---> list타입으로 형변환\n",
    "x_back2list =x.tolist()\n",
    "print(type(x_back2list))\n",
    "\n",
    "# .numpy() ---> numpy타입으로 형변환\n",
    "x_back2numpy = x.numpy()\n",
    "print(type(x_back2numpy))"
   ]
  },
  {
   "cell_type": "code",
   "execution_count": 5,
   "metadata": {},
   "outputs": [
    {
     "name": "stdout",
     "output_type": "stream",
     "text": [
      "cpu\n",
      "cuda:0\n",
      "cpu\n"
     ]
    }
   ],
   "source": [
    "# 기본적으로 텐서 생성시 CPU의 상태 디바이스 정보를 포함한다.\n",
    "print(x.device)\n",
    "\n",
    "#cuda를 사용할 수 없을 경우(Colab 외부)설치\n",
    "device = torch.device(\"cuda\" if torch.cuda.is_available() else \"error\")\n",
    "#GPU 사용\n",
    "x = x.to(device)\n",
    "print(x.device)\n",
    "\n",
    "device='cpu'\n",
    "#CPU 사용\n",
    "x = x.to(device)\n",
    "print(x.device)"
   ]
  },
  {
   "cell_type": "code",
   "execution_count": 6,
   "metadata": {},
   "outputs": [
    {
     "name": "stdout",
     "output_type": "stream",
     "text": [
      "tensor([[0.9466, 0.2144, 0.1763],\n",
      "        [0.9319, 0.7458, 0.2422]])\n"
     ]
    },
    {
     "data": {
      "text/plain": [
       "<matplotlib.image.AxesImage at 0x7f5728fb78d0>"
      ]
     },
     "execution_count": 6,
     "metadata": {},
     "output_type": "execute_result"
    },
    {
     "data": {
      "image/png": "[encoded data removed]",
      "text/plain": [
       "<Figure size 432x288 with 1 Axes>"
      ]
     },
     "metadata": {
      "needs_background": "light"
     },
     "output_type": "display_data"
    }
   ],
   "source": [
    "#랜덤 숫자로 구성된 크기가 2x3인 텐서 생성\n",
    "#0과 1사이의 랜덤한 숫자\n",
    "twoThree = torch.rand(2,3)\n",
    "print(twoThree)\n",
    "plt.imshow(twoThree)"
   ]
  },
  {
   "cell_type": "code",
   "execution_count": 7,
   "metadata": {},
   "outputs": [
    {
     "name": "stdout",
     "output_type": "stream",
     "text": [
      "tensor([[1, 3, 1],\n",
      "        [7, 3, 2]])\n"
     ]
    },
    {
     "data": {
      "text/plain": [
       "<matplotlib.image.AxesImage at 0x7f5728f2a390>"
      ]
     },
     "execution_count": 7,
     "metadata": {},
     "output_type": "execute_result"
    },
    {
     "data": {
      "image/png": "[encoded data removed]",
      "text/plain": [
       "<Figure size 432x288 with 1 Axes>"
      ]
     },
     "metadata": {
      "needs_background": "light"
     },
     "output_type": "display_data"
    }
   ],
   "source": [
    "# 0과 8사이의 정수형 랜덤한 숫자\n",
    "random = torch.randint(low=0, high=8, size=(2,3))\n",
    "print(random)\n",
    "plt.imshow(random)"
   ]
  },
  {
   "cell_type": "code",
   "execution_count": 8,
   "metadata": {},
   "outputs": [
    {
     "name": "stdout",
     "output_type": "stream",
     "text": [
      "cuda:0\n",
      "tensor([[0., 0., 0.],\n",
      "        [0., 0., 0.]], device='cuda:0')\n"
     ]
    },
    {
     "data": {
      "text/plain": [
       "<matplotlib.image.AxesImage at 0x7f5731c4b510>"
      ]
     },
     "execution_count": 8,
     "metadata": {},
     "output_type": "execute_result"
    },
    {
     "data": {
      "image/png": "[encoded data removed]",
      "text/plain": [
       "<Figure size 432x288 with 1 Axes>"
      ]
     },
     "metadata": {
      "needs_background": "light"
     },
     "output_type": "display_data"
    }
   ],
   "source": [
    "# GPU를 사용하고 크기가 x와 같은 0으로 채워진 텐서 생성\n",
    "x_zeros = torch.zeros_like(x.cuda())\n",
    "print(x_zeros.device)\n",
    "print(x_zeros)\n",
    "plt.imshow(x_zeros.tolist()) # numpy 형이기 때문에 표시를 위해 list로 형변환"
   ]
  },
  {
   "cell_type": "code",
   "execution_count": 9,
   "metadata": {},
   "outputs": [
    {
     "name": "stdout",
     "output_type": "stream",
     "text": [
      "torch.FloatTensor\n",
      "tensor([[3.1400, 1.5920, 2.3000],\n",
      "        [4.2000, 5.1000, 6.6000]])\n",
      "torch.LongTensor\n",
      "tensor([[1, 2, 3],\n",
      "        [4, 5, 6]])\n",
      "torch.ByteTensor\n",
      "tensor([1, 0, 1, 1], dtype=torch.uint8)\n"
     ]
    }
   ],
   "source": [
    "# Types of Tensor / p.73\n",
    "#--------------------------------------------------\n",
    "\n",
    "#실수형 텐서\n",
    "a = torch.FloatTensor(np.array([[3.14, 1.592, 2.3],[4.2, 5.1, 6.6]])) # 실수형이기 때문에 소숫점 표기\n",
    "print(a.type())\n",
    "print(a)\n",
    "\n",
    "#정수형 텐서\n",
    "b = torch.LongTensor(np.array([[1, 2, 3],[4, 5, 6]]))\n",
    "print(b.type())\n",
    "print(b)\n",
    "\n",
    "#8 bit 정수형 텐기\n",
    "c = torch.ByteTensor(np.array([True, False, True, True]))\n",
    "print(c.type())\n",
    "print(c)\n"
   ]
  },
  {
   "cell_type": "code",
   "execution_count": 10,
   "metadata": {},
   "outputs": [
    {
     "name": "stdout",
     "output_type": "stream",
     "text": [
      "tensor([[[5, 9, 1, 8],\n",
      "         [5, 7, 7, 7],\n",
      "         [3, 4, 1, 7]],\n",
      "\n",
      "        [[2, 0, 6, 3],\n",
      "         [2, 3, 0, 0],\n",
      "         [9, 5, 4, 2]]])\n"
     ]
    },
    {
     "data": {
      "image/png": "[encoded data removed]",
      "text/plain": [
       "<Figure size 720x720 with 2 Axes>"
      ]
     },
     "metadata": {
      "needs_background": "light"
     },
     "output_type": "display_data"
    }
   ],
   "source": [
    "#Manipulation of Tensor / p.74\n",
    "# 1. Element selection: Slicing\n",
    "#--------------------------------------------------\n",
    "\n",
    "torch.manual_seed(777) # manual_seed는 난수를 생성한다. 파라미터는 원하는 시드양\n",
    "threeDList = torch.randint(0, 10, size=(2, 3, 4)) # 0에서 10 사이의 3차원을 가진(각 차원은 2, 3, 4) 랜덤 텐서 생성\n",
    "print(threeDList)\n",
    "\n",
    "#print(len(threeDList[0][0])) # 열 개수\n",
    "#print(len(threeDList[0])) # 행 개수\n",
    "#print(len(threeDList)) # 면 개수\n",
    "\n",
    "d1 = [[0 for x in range(len(threeDList[0][0]))] for y in range(len(threeDList[0]))]\n",
    "d2 = [[0 for x in range(len(threeDList[0][0]))] for y in range(len(threeDList[0]))]\n",
    "\n",
    "# 2차원 리스트로 분리\n",
    "for i in range(len(threeDList)): # 면\n",
    "  for j in range(len(threeDList[0])): # 행\n",
    "    for k in range(len(threeDList[0][0])): # 열\n",
    "      if(i == 0):\n",
    "        d1[j][k] = threeDList[i][j][k]\n",
    "      elif(i == 1):\n",
    "        d2[j][k] = threeDList[i][j][k]\n",
    "    \n",
    "\n",
    "d1 = torch.Tensor(d1)\n",
    "d2 = torch.Tensor(d2)\n",
    "\n",
    "\n",
    "# 2차원 텐서를 나란히 표시\n",
    "fig = plt.figure(figsize=(10,10))\n",
    "fig.add_subplot(1, 2, 1)\n",
    "plt.imshow(d1)\n",
    "fig.add_subplot(1, 2, 2)\n",
    "plt.imshow(d2)\n",
    "plt.show()\n"
   ]
  },
  {
   "cell_type": "code",
   "execution_count": 52,
   "metadata": {},
   "outputs": [
    {
     "name": "stdout",
     "output_type": "stream",
     "text": [
      "tensor(7)\n",
      "tensor([2, 3, 0, 0])\n",
      "tensor([[1],\n",
      "        [7],\n",
      "        [1]])\n"
     ]
    },
    {
     "data": {
      "text/plain": [
       "<matplotlib.image.AxesImage at 0x7f57285a61d0>"
      ]
     },
     "execution_count": 52,
     "metadata": {},
     "output_type": "execute_result"
    },
    {
     "data": {
      "image/png": "[encoded data removed]",
      "text/plain": [
       "<Figure size 432x288 with 1 Axes>"
      ]
     },
     "metadata": {
      "needs_background": "light"
     },
     "output_type": "display_data"
    }
   ],
   "source": [
    "# 각 파라미터는 n번째 차원을 가리키며 row 단위로 0부터 계산한다.\n",
    "sliced = threeDList[0, 2, 3] # 0(1번째 차원의 2차원 텐서에서), 2(3번째 행(row)의 원소들 중에), 3(4번째 열(col)의 원소를 선택)\n",
    "print(sliced) # 7이 될것이다.\n",
    "\n",
    "sliced1 = threeDList[1, 1, :] # 2번째 차원의 2차원 텐서의 2번째 행의 원소를 :(전부)\n",
    "print(sliced1)\n",
    "#plt.imshow(sliced1)\n",
    "\n",
    "sliced2 = threeDList[0, :3, 2:3] # :의 뒤에 들어가는 인덱스는 포함되지 않는다. (JAVA의 substring의 마지막 인덱스와 비슷)\n",
    "# 1번째 차원의 2차원 텐서에서 0~2의 행들(즉, 1,2,3행들)의 2번째 인덱스(즉 3번째 열)을 모두 표시\n",
    "print(sliced2)\n",
    "plt.imshow(sliced2)\n"
   ]
  },
  {
   "cell_type": "code",
   "execution_count": 57,
   "metadata": {},
   "outputs": [
    {
     "name": "stdout",
     "output_type": "stream",
     "text": [
      "tensor([[[5, 9, 1, 8],\n",
      "         [5, 7, 7, 7],\n",
      "         [3, 4, 1, 7]],\n",
      "\n",
      "        [[2, 0, 6, 3],\n",
      "         [2, 3, 0, 0],\n",
      "         [9, 5, 4, 2]]])\n",
      "tensor([[[5, 9, 1, 8, 5, 7],\n",
      "         [7, 7, 3, 4, 1, 7]],\n",
      "\n",
      "        [[2, 0, 6, 3, 2, 3],\n",
      "         [0, 0, 9, 5, 4, 2]]])\n",
      "tensor([[[5, 9, 1, 8, 5, 7, 7, 7, 3, 4, 1, 7]],\n",
      "\n",
      "        [[2, 0, 6, 3, 2, 3, 0, 0, 9, 5, 4, 2]]])\n"
     ]
    }
   ],
   "source": [
    "# 2.Resizing Tensor p.77\n",
    "\n",
    "# view 함수의 경우 같은 데이터지만 새로운 사이즈를 가지는 텐서를 생성한다. 그러나 각 텐서의 차원의 곱이 같아야 한다는 제약이 있다.\n",
    "# 예를 들어 threeDList의 경우 2x3x4의 사이즈를 가지기 때문에 총 24개의 데이터를 가지고 있다. 차원이 어떻든 상관이 없지만 그 차원에 들어가야 할 데이터의 숫자는 총 24개여야 한다.\n",
    "\n",
    "print(threeDList)\n",
    "print(threeDList.view(2, 2, 6))\n",
    "print(threeDList.view(-1, 1, 12))\n",
    "\n"
   ]
  },
  {
   "cell_type": "code",
   "execution_count": 64,
   "metadata": {},
   "outputs": [
    {
     "name": "stdout",
     "output_type": "stream",
     "text": [
      "torch.Size([2, 3, 4])\n",
      "tensor([[[5, 9, 1, 8],\n",
      "         [5, 7, 7, 7],\n",
      "         [3, 4, 1, 7]],\n",
      "\n",
      "        [[2, 0, 6, 3],\n",
      "         [2, 3, 0, 0],\n",
      "         [9, 5, 4, 2]]])\n",
      "\n",
      "\n",
      "torch.Size([3, 2, 4])\n",
      "tensor([[[5, 9, 1, 8],\n",
      "         [2, 0, 6, 3]],\n",
      "\n",
      "        [[5, 7, 7, 7],\n",
      "         [2, 3, 0, 0]],\n",
      "\n",
      "        [[3, 4, 1, 7],\n",
      "         [9, 5, 4, 2]]])\n"
     ]
    }
   ],
   "source": [
    "transposed = threeDList.transpose(0,1) # 0번째 차원과 1번째 차원의 크기가 서로 바뀐다.\n",
    "# 2차원 텐서가 2개 였지만 3개가 되고 각각의 2차원 텐서의 행이 3개였지만 2개로 변한다. 전 차원과는 관계 없이 같은 차원에 있는 요소들을 같은 취급한다.\n",
    "\n",
    "print(threeDList.size())\n",
    "print(threeDList)\n",
    "print(\"\\n\")\n",
    "print(transposed.size())\n",
    "\n",
    "print(transposed)\n"
   ]
  },
  {
   "cell_type": "code",
   "execution_count": 65,
   "metadata": {},
   "outputs": [
    {
     "ename": "RuntimeError",
     "evalue": "t() expects a tensor with <= 2 dimensions, but self is 3D",
     "output_type": "error",
     "traceback": [
      "\u001b[0;31m---------------------------------------------------------------------------\u001b[0m",
      "\u001b[0;31mRuntimeError\u001b[0m                              Traceback (most recent call last)",
      "\u001b[0;32m<ipython-input-65-9eded701b289>\u001b[0m in \u001b[0;36m<module>\u001b[0;34m\u001b[0m\n\u001b[0;32m----> 1\u001b[0;31m \u001b[0mtransposed_whole\u001b[0m \u001b[0;34m=\u001b[0m \u001b[0mthreeDList\u001b[0m\u001b[0;34m.\u001b[0m\u001b[0mt\u001b[0m\u001b[0;34m(\u001b[0m\u001b[0;34m)\u001b[0m\u001b[0;34m\u001b[0m\u001b[0;34m\u001b[0m\u001b[0m\n\u001b[0m\u001b[1;32m      2\u001b[0m \u001b[0mprint\u001b[0m\u001b[0;34m(\u001b[0m\u001b[0mthreeDList\u001b[0m\u001b[0;34m)\u001b[0m\u001b[0;34m\u001b[0m\u001b[0;34m\u001b[0m\u001b[0m\n\u001b[1;32m      3\u001b[0m \u001b[0mprint\u001b[0m\u001b[0;34m(\u001b[0m\u001b[0mtransposed_whole\u001b[0m\u001b[0;34m)\u001b[0m\u001b[0;34m\u001b[0m\u001b[0;34m\u001b[0m\u001b[0m\n",
      "\u001b[0;31mRuntimeError\u001b[0m: t() expects a tensor with <= 2 dimensions, but self is 3D"
     ]
    }
   ],
   "source": [
    "transposed_whole = d1.t() # 오로지 2D 행렬의 경우만 전치가 가능\n",
    "print(d1)\n",
    "print(transposed_whole)"
   ]
  },
  {
   "cell_type": "code",
   "execution_count": 12,
   "metadata": {},
   "outputs": [
    {
     "name": "stdout",
     "output_type": "stream",
     "text": [
      "tensor([[0.9411, 0.9180, 0.8952],\n",
      "        [0.4341, 0.1523, 0.3154]])\n",
      "tensor([[0.3771, 0.6166, 0.5355],\n",
      "        [0.9970, 0.3777, 0.9541]])\n",
      "tensor([[0.9411, 0.9180, 0.8952],\n",
      "        [0.4341, 0.1523, 0.3154],\n",
      "        [0.3771, 0.6166, 0.5355],\n",
      "        [0.9970, 0.3777, 0.9541]])\n"
     ]
    }
   ],
   "source": [
    "A = torch.rand((2, 3))\n",
    "print(A)\n",
    "B = torch.rand((2, 3))\n",
    "print(B)\n",
    "AB_cated = torch.cat([A, B], dim=0)\n",
    "print(AB_cated)"
   ]
  }
 ],
 "metadata": {
  "kernelspec": {
   "display_name": "Python(torchenv)",
   "language": "python",
   "name": "torchenv"
  },
  "language_info": {
   "codemirror_mode": {
    "name": "ipython",
    "version": 3
   },
   "file_extension": ".py",
   "mimetype": "text/x-python",
   "name": "python",
   "nbconvert_exporter": "python",
   "pygments_lexer": "ipython3",
   "version": "3.7.5"
  }
 },
 "nbformat": 4,
 "nbformat_minor": 2
}
