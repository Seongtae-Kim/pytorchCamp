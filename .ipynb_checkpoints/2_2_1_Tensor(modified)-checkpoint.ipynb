{
 "cells": [
  {
   "cell_type": "code",
   "execution_count": 1,
   "metadata": {},
   "outputs": [],
   "source": [
    "# 2.2.1. Tensor /20191226\n",
    "import torch, numpy as np, matplotlib.pyplot as plt"
   ]
  },
  {
   "cell_type": "code",
   "execution_count": 2,
   "metadata": {},
   "outputs": [
    {
     "name": "stdout",
     "output_type": "stream",
     "text": [
      "tensor([[1., 2., 3.],\n",
      "        [4., 5., 6.]])\n"
     ]
    },
    {
     "data": {
      "text/plain": [
       "<matplotlib.image.AxesImage at 0x7fda7351e210>"
      ]
     },
     "execution_count": 2,
     "metadata": {},
     "output_type": "execute_result"
    },
    {
     "data": {
      "image/png": "[encoded data removed]",
      "text/plain": [
       "<Figure size 432x288 with 1 Axes>"
      ]
     },
     "metadata": {
      "needs_background": "light"
     },
     "output_type": "display_data"
    }
   ],
   "source": [
    "# Creating Tensor / p.71\n",
    "#--------------------------------------------------\n",
    "\n",
    "# list로부터 2x3 텐서 생성\n",
    "x_list = [[1,2,3], [4,5,6]]\n",
    "x = torch.Tensor(x_list)\n",
    "print(x)\n",
    "plt.imshow(x)"
   ]
  },
  {
   "cell_type": "code",
   "execution_count": 3,
   "metadata": {},
   "outputs": [
    {
     "name": "stdout",
     "output_type": "stream",
     "text": [
      "tensor([[9., 6., 1.],\n",
      "        [5., 3., 2.]])\n"
     ]
    },
    {
     "data": {
      "text/plain": [
       "<matplotlib.image.AxesImage at 0x7fda73445750>"
      ]
     },
     "execution_count": 3,
     "metadata": {},
     "output_type": "execute_result"
    },
    {
     "data": {
      "image/png": "[encoded data removed]",
      "text/plain": [
       "<Figure size 432x288 with 1 Axes>"
      ]
     },
     "metadata": {
      "needs_background": "light"
     },
     "output_type": "display_data"
    }
   ],
   "source": [
    "# numpy array로부터 2x3 텐서 생성\n",
    "x_numpy = np.array([[1, 2, 3],[4, 5, 6]])\n",
    "x = torch.Tensor(np.array([[9, 6, 1],[5, 3, 2]]))\n",
    "print(x)\n",
    "plt.imshow(x_numpy)"
   ]
  },
  {
   "cell_type": "code",
   "execution_count": 4,
   "metadata": {},
   "outputs": [
    {
     "name": "stdout",
     "output_type": "stream",
     "text": [
      "<class 'list'>\n",
      "<class 'numpy.ndarray'>\n"
     ]
    }
   ],
   "source": [
    "# .tolist() ---> list타입으로 형변환\n",
    "x_back2list =x.tolist()\n",
    "print(type(x_back2list))\n",
    "\n",
    "# .numpy() ---> numpy타입으로 형변환\n",
    "x_back2numpy = x.numpy()\n",
    "print(type(x_back2numpy))"
   ]
  },
  {
   "cell_type": "code",
   "execution_count": 5,
   "metadata": {},
   "outputs": [
    {
     "name": "stdout",
     "output_type": "stream",
     "text": [
      "cpu\n",
      "cuda:0\n",
      "cpu\n"
     ]
    }
   ],
   "source": [
    "# 기본적으로 텐서 생성시 CPU의 상태 디바이스 정보를 포함한다.\n",
    "print(x.device)\n",
    "\n",
    "#cuda를 사용할 수 없을 경우(Colab 외부)설치\n",
    "device = torch.device(\"cuda\" if torch.cuda.is_available() else \"error\")\n",
    "#GPU 사용\n",
    "x = x.to(device)\n",
    "print(x.device)\n",
    "\n",
    "device='cpu'\n",
    "#CPU 사용\n",
    "x = x.to(device)\n",
    "print(x.device)"
   ]
  },
  {
   "cell_type": "code",
   "execution_count": 6,
   "metadata": {},
   "outputs": [
    {
     "name": "stdout",
     "output_type": "stream",
     "text": [
      "tensor([[0.8578, 0.3359, 0.4011],\n",
      "        [0.9970, 0.1153, 0.4541]])\n"
     ]
    },
    {
     "data": {
      "text/plain": [
       "<matplotlib.image.AxesImage at 0x7fda6a7b4bd0>"
      ]
     },
     "execution_count": 6,
     "metadata": {},
     "output_type": "execute_result"
    },
    {
     "data": {
      "image/png": "[encoded data removed]",
      "text/plain": [
       "<Figure size 432x288 with 1 Axes>"
      ]
     },
     "metadata": {
      "needs_background": "light"
     },
     "output_type": "display_data"
    }
   ],
   "source": [
    "#랜덤 숫자로 구성된 크기가 2x3인 텐서 생성\n",
    "#0과 1사이의 랜덤한 숫자\n",
    "twoThree = torch.rand(2,3)\n",
    "print(twoThree)\n",
    "plt.imshow(twoThree)"
   ]
  },
  {
   "cell_type": "code",
   "execution_count": 7,
   "metadata": {},
   "outputs": [
    {
     "name": "stdout",
     "output_type": "stream",
     "text": [
      "tensor([[1, 3, 0],\n",
      "        [2, 2, 4]])\n"
     ]
    },
    {
     "data": {
      "text/plain": [
       "<matplotlib.image.AxesImage at 0x7fda6a724790>"
      ]
     },
     "execution_count": 7,
     "metadata": {},
     "output_type": "execute_result"
    },
    {
     "data": {
      "image/png": "[encoded data removed]",
      "text/plain": [
       "<Figure size 432x288 with 1 Axes>"
      ]
     },
     "metadata": {
      "needs_background": "light"
     },
     "output_type": "display_data"
    }
   ],
   "source": [
    "# 0과 8사이의 정수형 랜덤한 숫자\n",
    "random = torch.randint(low=0, high=8, size=(2,3))\n",
    "print(random)\n",
    "plt.imshow(random)"
   ]
  },
  {
   "cell_type": "code",
   "execution_count": 8,
   "metadata": {},
   "outputs": [
    {
     "name": "stdout",
     "output_type": "stream",
     "text": [
      "cuda:0\n",
      "tensor([[0., 0., 0.],\n",
      "        [0., 0., 0.]], device='cuda:0')\n"
     ]
    },
    {
     "data": {
      "text/plain": [
       "<matplotlib.image.AxesImage at 0x7fda6a70f890>"
      ]
     },
     "execution_count": 8,
     "metadata": {},
     "output_type": "execute_result"
    },
    {
     "data": {
      "image/png": "[encoded data removed]",
      "text/plain": [
       "<Figure size 432x288 with 1 Axes>"
      ]
     },
     "metadata": {
      "needs_background": "light"
     },
     "output_type": "display_data"
    }
   ],
   "source": [
    "# GPU를 사용하고 크기가 x와 같은 0으로 채워진 텐서 생성\n",
    "x_zeros = torch.zeros_like(x.cuda())\n",
    "print(x_zeros.device)\n",
    "print(x_zeros)\n",
    "plt.imshow(x_zeros.tolist()) # numpy 형이기 때문에 표시를 위해 list로 형변환"
   ]
  },
  {
   "cell_type": "code",
   "execution_count": 9,
   "metadata": {},
   "outputs": [
    {
     "name": "stdout",
     "output_type": "stream",
     "text": [
      "torch.FloatTensor\n",
      "tensor([[3.1400, 1.5920, 2.3000],\n",
      "        [4.2000, 5.1000, 6.6000]])\n",
      "torch.LongTensor\n",
      "tensor([[1, 2, 3],\n",
      "        [4, 5, 6]])\n",
      "torch.ByteTensor\n",
      "tensor([1, 0, 1, 1], dtype=torch.uint8)\n"
     ]
    }
   ],
   "source": [
    "# Types of Tensor / p.73\n",
    "#--------------------------------------------------\n",
    "\n",
    "#실수형 텐서\n",
    "a = torch.FloatTensor(np.array([[3.14, 1.592, 2.3],[4.2, 5.1, 6.6]])) # 실수형이기 때문에 소숫점 표기\n",
    "print(a.type())\n",
    "print(a)\n",
    "\n",
    "#정수형 텐서\n",
    "b = torch.LongTensor(np.array([[1, 2, 3],[4, 5, 6]]))\n",
    "print(b.type())\n",
    "print(b)\n",
    "\n",
    "#8 bit 정수형 텐기\n",
    "c = torch.ByteTensor(np.array([True, False, True, True]))\n",
    "print(c.type())\n",
    "print(c)\n"
   ]
  },
  {
   "cell_type": "code",
   "execution_count": 10,
   "metadata": {},
   "outputs": [
    {
     "name": "stdout",
     "output_type": "stream",
     "text": [
      "tensor([[[5, 9, 1, 8],\n",
      "         [5, 7, 7, 7],\n",
      "         [3, 4, 1, 7]],\n",
      "\n",
      "        [[2, 0, 6, 3],\n",
      "         [2, 3, 0, 0],\n",
      "         [9, 5, 4, 2]]])\n"
     ]
    },
    {
     "data": {
      "image/png": "[encoded data removed]",
      "text/plain": [
       "<Figure size 720x720 with 2 Axes>"
      ]
     },
     "metadata": {
      "needs_background": "light"
     },
     "output_type": "display_data"
    }
   ],
   "source": [
    "#Manipulation of Tensor / p.74\n",
    "# 1. Element selection: Slicing\n",
    "#--------------------------------------------------\n",
    "\n",
    "torch.manual_seed(777) # manual_seed는 난수를 생성한다. 파라미터는 원하는 시드양\n",
    "threeDList = torch.randint(0, 10, size=(2, 3, 4)) # 0에서 10 사이의 3차원을 가진(각 차원은 2, 3, 4) 랜덤 텐서 생성\n",
    "print(threeDList)\n",
    "\n",
    "#print(len(threeDList[0][0])) # 열 개수\n",
    "#print(len(threeDList[0])) # 행 개수\n",
    "#print(len(threeDList)) # 면 개수\n",
    "\n",
    "\n",
    "\n",
    "\n",
    "d1 = [[0 for x in range(len(threeDList[0][0]))] for y in range(len(threeDList[0]))]\n",
    "d2 = [[0 for x in range(len(threeDList[0][0]))] for y in range(len(threeDList[0]))]\n",
    "\n",
    "# 2차원 리스트로 분리\n",
    "for i in range(len(threeDList)): # 면\n",
    "  for j in range(len(threeDList[0])): # 행\n",
    "    for k in range(len(threeDList[0][0])): # 열\n",
    "      if(i == 0):\n",
    "        d1[j][k] = threeDList[i][j][k]\n",
    "      elif(i == 1):\n",
    "        d2[j][k] = threeDList[i][j][k]\n",
    "    \n",
    "\n",
    "d1 = torch.Tensor(d1)\n",
    "d2 = torch.Tensor(d2)\n",
    "\n",
    "\n",
    "# 2차원 텐서를 나란히 표시\n",
    "fig = plt.figure(figsize=(10,10))\n",
    "fig.add_subplot(1, 2, 1)\n",
    "plt.imshow(d1)\n",
    "fig.add_subplot(1, 2, 2)\n",
    "plt.imshow(d2)\n",
    "plt.show()\n"
   ]
  },
  {
   "cell_type": "code",
   "execution_count": 25,
   "metadata": {},
   "outputs": [],
   "source": []
  },
  {
   "cell_type": "code",
   "execution_count": 12,
   "metadata": {},
   "outputs": [
    {
     "name": "stdout",
     "output_type": "stream",
     "text": [
      "tensor(7)\n",
      "tensor([2, 3, 0, 0])\n",
      "tensor([[1],\n",
      "        [7],\n",
      "        [1]])\n"
     ]
    },
    {
     "data": {
      "text/plain": [
       "<matplotlib.image.AxesImage at 0x7fda6a5c0310>"
      ]
     },
     "execution_count": 12,
     "metadata": {},
     "output_type": "execute_result"
    },
    {
     "data": {
      "image/png": "[encoded data removed]",
      "text/plain": [
       "<Figure size 432x288 with 1 Axes>"
      ]
     },
     "metadata": {
      "needs_background": "light"
     },
     "output_type": "display_data"
    }
   ],
   "source": [
    "# 각 파라미터는 n번째 차원을 가리키며 row 단위로 0부터 계산한다.\n",
    "sliced = threeDList[0, 2, 3] # 0(1번째 차원의 2차원 텐서에서), 2(3번째 행(row)의 원소들 중에), 3(4번째 열(col)의 원소를 선택)\n",
    "print(sliced) # 7이 될것이다.\n",
    "\n",
    "sliced1 = threeDList[1, 1, :] # 2번째 차원의 2차원 텐서의 2번째 행의 원소를 :(전부)\n",
    "print(sliced1)\n",
    "#plt.imshow(sliced1)\n",
    "\n",
    "sliced2 = threeDList[0, :3, 2:3] # :의 뒤에 들어가는 인덱스는 포함되지 않는다. (JAVA의 substring의 마지막 인덱스와 비슷)\n",
    "# 1번째 차원의 2차원 텐서에서 0~2의 행들(즉, 1,2,3행들)의 2번째 인덱스(즉 3번째 열)을 모두 표시\n",
    "print(sliced2)\n",
    "plt.imshow(sliced2)\n"
   ]
  },
  {
   "cell_type": "code",
   "execution_count": 13,
   "metadata": {},
   "outputs": [
    {
     "name": "stdout",
     "output_type": "stream",
     "text": [
      "tensor([[[5, 9, 1, 8],\n",
      "         [5, 7, 7, 7],\n",
      "         [3, 4, 1, 7]],\n",
      "\n",
      "        [[2, 0, 6, 3],\n",
      "         [2, 3, 0, 0],\n",
      "         [9, 5, 4, 2]]])\n",
      "tensor([[[5, 9, 1, 8, 5, 7],\n",
      "         [7, 7, 3, 4, 1, 7]],\n",
      "\n",
      "        [[2, 0, 6, 3, 2, 3],\n",
      "         [0, 0, 9, 5, 4, 2]]])\n",
      "tensor([[[5, 9, 1, 8, 5, 7, 7, 7, 3, 4, 1, 7]],\n",
      "\n",
      "        [[2, 0, 6, 3, 2, 3, 0, 0, 9, 5, 4, 2]]])\n"
     ]
    }
   ],
   "source": [
    "# 2.Resizing Tensor p.77\n",
    "\n",
    "# view 함수의 경우 같은 데이터지만 새로운 사이즈를 가지는 텐서를 생성한다. 그러나 각 텐서의 차원의 곱이 같아야 한다는 제약이 있다.\n",
    "# 예를 들어 threeDList의 경우 2x3x4의 사이즈를 가지기 때문에 총 24개의 데이터를 가지고 있다. 차원이 어떻든 상관이 없지만 그 차원에 들어가야 할 데이터의 숫자는 총 24개여야 한다.\n",
    "\n",
    "# 2-1. view\n",
    "\n",
    "print(threeDList)\n",
    "print(threeDList.view(2, 2, 6))\n",
    "print(threeDList.view(-1, 1, 12))\n",
    "\n"
   ]
  },
  {
   "cell_type": "code",
   "execution_count": 14,
   "metadata": {},
   "outputs": [
    {
     "name": "stdout",
     "output_type": "stream",
     "text": [
      "torch.Size([2, 3, 4])\n",
      "tensor([[[5, 9, 1, 8],\n",
      "         [5, 7, 7, 7],\n",
      "         [3, 4, 1, 7]],\n",
      "\n",
      "        [[2, 0, 6, 3],\n",
      "         [2, 3, 0, 0],\n",
      "         [9, 5, 4, 2]]])\n",
      "\n",
      "\n",
      "torch.Size([3, 2, 4])\n",
      "tensor([[[5, 9, 1, 8],\n",
      "         [2, 0, 6, 3]],\n",
      "\n",
      "        [[5, 7, 7, 7],\n",
      "         [2, 3, 0, 0]],\n",
      "\n",
      "        [[3, 4, 1, 7],\n",
      "         [9, 5, 4, 2]]])\n"
     ]
    }
   ],
   "source": [
    "transposed = threeDList.transpose(0,1) # 0번째 차원과 1번째 차원의 크기가 서로 바뀐다.\n",
    "# 2차원 텐서가 2개 였지만 3개가 되고 각각의 2차원 텐서의 행이 3개였지만 2개로 변한다. 전 차원과는 관계 없이 같은 차원에 있는 요소들을 같은 취급한다.\n",
    "\n",
    "# 2.2. transposition\n",
    "\n",
    "print(threeDList.size())\n",
    "print(threeDList)\n",
    "print(\"\\n\")\n",
    "print(transposed.size())\n",
    "\n",
    "print(transposed)\n"
   ]
  },
  {
   "cell_type": "code",
   "execution_count": 15,
   "metadata": {},
   "outputs": [
    {
     "name": "stdout",
     "output_type": "stream",
     "text": [
      "tensor([[5., 9., 1., 8.],\n",
      "        [5., 7., 7., 7.],\n",
      "        [3., 4., 1., 7.]])\n",
      "tensor([[5., 5., 3.],\n",
      "        [9., 7., 4.],\n",
      "        [1., 7., 1.],\n",
      "        [8., 7., 7.]])\n"
     ]
    }
   ],
   "source": [
    "transposed_whole = d1.t() # 오로지 2D 행렬의 경우만 전치가 가능\n",
    "print(d1)\n",
    "print(transposed_whole)"
   ]
  },
  {
   "cell_type": "code",
   "execution_count": 16,
   "metadata": {},
   "outputs": [
    {
     "name": "stdout",
     "output_type": "stream",
     "text": [
      "tensor([[[[[0.9411],\n",
      "           [0.9180],\n",
      "           [0.8952],\n",
      "           [0.4341]],\n",
      "\n",
      "          [[0.1523],\n",
      "           [0.3154],\n",
      "           [0.3771],\n",
      "           [0.6166]],\n",
      "\n",
      "          [[0.5355],\n",
      "           [0.9970],\n",
      "           [0.3777],\n",
      "           [0.9541]]]],\n",
      "\n",
      "\n",
      "\n",
      "        [[[[0.8282],\n",
      "           [0.6459],\n",
      "           [0.5544],\n",
      "           [0.3703]],\n",
      "\n",
      "          [[0.0696],\n",
      "           [0.3870],\n",
      "           [0.7293],\n",
      "           [0.9067]],\n",
      "\n",
      "          [[0.0059],\n",
      "           [0.0251],\n",
      "           [0.4496],\n",
      "           [0.2148]]]]])\n",
      "\n",
      "\n",
      "The original size: \n",
      "torch.Size([2, 1, 3, 4, 1])\n",
      "\n",
      "\n",
      "squeezed(the entire one): \n",
      "torch.Size([2, 3, 4])\n",
      "\n",
      "\n",
      "squeezed(partial one): \n",
      "torch.Size([2, 3, 4, 1])\n",
      "\n",
      "\n",
      "unsqueezed(at the fourth D): \n",
      "torch.Size([2, 1, 3, 1, 4, 1])\n"
     ]
    }
   ],
   "source": [
    "# 2-3. Squeeze & Unsqueeze\n",
    "\n",
    "fiveD = torch.rand(2,1,3,4,1)\n",
    "print(fiveD)\n",
    "print(\"\\n\")\n",
    "# squeeze는 크기가 1인 차원을 모두 제거해준다.\n",
    "\n",
    "print(\"The original size: \")\n",
    "print(fiveD.size())\n",
    "print(\"\\n\")\n",
    "\n",
    "print(\"squeezed(the entire one): \")\n",
    "squeezed = fiveD.squeeze() # 파라미터가 없을 경우 전체 텐서를 squeeze한다.\n",
    "print(squeezed.size())\n",
    "print(\"\\n\")\n",
    "\n",
    "print(\"squeezed(partial one): \")\n",
    "sqzd_ptl = fiveD.squeeze(1) # 파라미터가 있을 경우 해당 인덱스의 차원만 squeeze한다.(여기서는 1이므로 2번째 차원만 squeeze)\n",
    "print(sqzd_ptl.size())\n",
    "print(\"\\n\")\n",
    "\n",
    "print(\"unsqueezed(at the fourth D): \") # Unsqueeze의 경우 해당 차원에 1 크기의 새로운 차원이 생겨난다.\n",
    "unsqueezed = fiveD.unsqueeze(3)\n",
    "print(unsqueezed.size())"
   ]
  },
  {
   "cell_type": "code",
   "execution_count": 17,
   "metadata": {},
   "outputs": [
    {
     "name": "stdout",
     "output_type": "stream",
     "text": [
      "tensor([[0.3932, 0.5132, 0.9990],\n",
      "        [0.1503, 0.3187, 0.9039]])\n",
      "\n",
      "\n"
     ]
    },
    {
     "data": {
      "image/png": "[encoded data removed]",
      "text/plain": [
       "<Figure size 432x288 with 1 Axes>"
      ]
     },
     "metadata": {
      "needs_background": "light"
     },
     "output_type": "display_data"
    }
   ],
   "source": [
    "# 2-4. Concatenate & Stack\n",
    "\n",
    "\n",
    "A = torch.rand((2, 3))\n",
    "print(A)\n",
    "plt.imshow(A)\n",
    "print(\"\\n\")\n"
   ]
  },
  {
   "cell_type": "code",
   "execution_count": 18,
   "metadata": {},
   "outputs": [
    {
     "name": "stdout",
     "output_type": "stream",
     "text": [
      "tensor([[0.7984, 0.8534, 0.0622],\n",
      "        [0.6526, 0.9995, 0.5429]])\n",
      "\n",
      "\n"
     ]
    },
    {
     "data": {
      "image/png": "[encoded data removed]",
      "text/plain": [
       "<Figure size 432x288 with 1 Axes>"
      ]
     },
     "metadata": {
      "needs_background": "light"
     },
     "output_type": "display_data"
    }
   ],
   "source": [
    "B = torch.rand((2, 3))\n",
    "print(B)\n",
    "plt.imshow(B)\n",
    "print(\"\\n\")\n",
    "\n"
   ]
  },
  {
   "cell_type": "code",
   "execution_count": 19,
   "metadata": {},
   "outputs": [
    {
     "name": "stdout",
     "output_type": "stream",
     "text": [
      "tensor([[0.3932, 0.5132, 0.9990],\n",
      "        [0.1503, 0.3187, 0.9039],\n",
      "        [0.7984, 0.8534, 0.0622],\n",
      "        [0.6526, 0.9995, 0.5429]])\n"
     ]
    },
    {
     "data": {
      "text/plain": [
       "<matplotlib.image.AxesImage at 0x7fda6a47a050>"
      ]
     },
     "execution_count": 19,
     "metadata": {},
     "output_type": "execute_result"
    },
    {
     "data": {
      "image/png": "[encoded data removed]",
      "text/plain": [
       "<Figure size 432x288 with 1 Axes>"
      ]
     },
     "metadata": {
      "needs_background": "light"
     },
     "output_type": "display_data"
    }
   ],
   "source": [
    "AB_cated = torch.cat([A, B], dim=0)\n",
    "print(AB_cated)\n",
    "plt.imshow(AB_cated)"
   ]
  },
  {
   "cell_type": "code",
   "execution_count": 27,
   "metadata": {},
   "outputs": [],
   "source": [
    "def TensorSplitter(threeD, yes): # 3차원 텐서를 2차원으로 분리해서 각각을 matplotlib으로 시각화\n",
    "    d1 = [[0 for x in range(len(threeDList[0][0]))] for y in range(len(threeDList[0]))]\n",
    "    d2 = [[0 for x in range(len(threeDList[0][0]))] for y in range(len(threeDList[0]))]\n",
    "    # 2차원 리스트로 분리\n",
    "    for i in range(len(threeDList)): # 면\n",
    "      for j in range(len(threeDList[0])): # 행\n",
    "        for k in range(len(threeDList[0][0])): # 열\n",
    "          if(i == 0):\n",
    "            d1[j][k] = threeDList[i][j][k]\n",
    "          elif(i == 1):\n",
    "            d2[j][k] = threeDList[i][j][k]\n",
    "    d1 = torch.Tensor(d1)\n",
    "    d2 = torch.Tensor(d2)\n",
    "    \n",
    "    if(yes):\n",
    "        fig = plt.figure(figsize=(10,10))\n",
    "        fig.add_subplot(1, 2, 1)\n",
    "        plt.imshow(d1)\n",
    "        fig.add_subplot(1, 2, 2)\n",
    "        plt.imshow(d2)\n",
    "        plt.show()\n",
    "    elif(yes==False):\n",
    "        print(d1)\n",
    "        print(d2)"
   ]
  },
  {
   "cell_type": "code",
   "execution_count": 40,
   "metadata": {},
   "outputs": [
    {
     "name": "stdout",
     "output_type": "stream",
     "text": [
      "A:\n",
      "tensor([[0.3932, 0.5132, 0.9990],\n",
      "        [0.1503, 0.3187, 0.9039]])\n",
      "B:\n",
      "tensor([[0.7984, 0.8534, 0.0622],\n",
      "        [0.6526, 0.9995, 0.5429]])\n",
      "\n",
      "\n"
     ]
    },
    {
     "data": {
      "image/png": "[encoded data removed]",
      "text/plain": [
       "<Figure size 720x720 with 2 Axes>"
      ]
     },
     "metadata": {
      "needs_background": "light"
     },
     "output_type": "display_data"
    },
    {
     "data": {
      "image/png": "[encoded data removed]",
      "text/plain": [
       "<Figure size 720x720 with 2 Axes>"
      ]
     },
     "metadata": {
      "needs_background": "light"
     },
     "output_type": "display_data"
    },
    {
     "name": "stdout",
     "output_type": "stream",
     "text": [
      "AB_stacked: \n",
      "tensor([[[0.3932, 0.5132, 0.9990],\n",
      "         [0.1503, 0.3187, 0.9039]],\n",
      "\n",
      "        [[0.7984, 0.8534, 0.0622],\n",
      "         [0.6526, 0.9995, 0.5429]]])\n",
      "\n",
      "\n",
      "BA_stacked: \n",
      "tensor([[[0.7984, 0.8534, 0.0622],\n",
      "         [0.6526, 0.9995, 0.5429]],\n",
      "\n",
      "        [[0.3932, 0.5132, 0.9990],\n",
      "         [0.1503, 0.3187, 0.9039]]])\n",
      "\n",
      "\n",
      "ABBA_stacked: \n",
      "tensor([[[[0.3932, 0.5132, 0.9990],\n",
      "          [0.1503, 0.3187, 0.9039]],\n",
      "\n",
      "         [[0.7984, 0.8534, 0.0622],\n",
      "          [0.6526, 0.9995, 0.5429]]],\n",
      "\n",
      "\n",
      "        [[[0.7984, 0.8534, 0.0622],\n",
      "          [0.6526, 0.9995, 0.5429]],\n",
      "\n",
      "         [[0.3932, 0.5132, 0.9990],\n",
      "          [0.1503, 0.3187, 0.9039]]]])\n"
     ]
    }
   ],
   "source": [
    "\n",
    "print(\"A:\")\n",
    "print(A)\n",
    "print(\"B:\")\n",
    "print(B)\n",
    "print(\"\\n\")\n",
    "\n",
    "\n",
    "\n",
    "# 2개의 텐서를 stack할 경우, 그 둘을 같은 차원의 덩어리로 보고 1차원이 증가하면서 더해진다.\n",
    "AB_stacked = torch.stack([A,B], dim=0)\n",
    "BA_stacked = torch.stack([B,A], dim=0)\n",
    "\n",
    "TensorSplitter(AB_stacked,True)\n",
    "\n",
    "TensorSplitter(BA_stacked,True)\n",
    "\n",
    "print(\"AB_stacked: \")\n",
    "print(AB_stacked)\n",
    "print(\"\\n\")\n",
    "\n",
    "print(\"BA_stacked: \")\n",
    "print(BA_stacked)\n",
    "print(\"\\n\")\n",
    "\n",
    "# n차원이면 모두 stack이 가능하다.\n",
    "print(\"ABBA_stacked: \")\n",
    "ABBA_stacked = torch.stack([AB_stacked,BA_stacked], dim=0)\n",
    "\n",
    "print(ABBA_stacked)\n",
    "\n"
   ]
  },
  {
   "cell_type": "code",
   "execution_count": 52,
   "metadata": {},
   "outputs": [
    {
     "name": "stdout",
     "output_type": "stream",
     "text": [
      "a1:\t\ttensor([7., 8., 9.])\n",
      "a2:\t\ttensor([3., 4., 5.])\n",
      "\n",
      "\n",
      "a1+a2:\t\ttensor([10., 12., 14.])\n",
      "a1-a2:\t\ttensor([4., 4., 4.])\n",
      "a1*a2:\t\ttensor([21., 32., 45.])\n",
      "a1/a2:\t\ttensor([2.3333, 2.0000, 1.8000])\n",
      "a1 + scalar 2:\ttensor([ 9., 10., 11.])\n",
      "a2 + vector-3:\ttensor([0., 1., 2.])\n",
      "a1 dot a2: \ttensor(98.)\n"
     ]
    }
   ],
   "source": [
    "# 3. Tensor Operations p.81\n",
    "\n",
    "a1 = torch.Tensor([7, 8, 9])\n",
    "a2 = torch.Tensor([3, 4, 5])\n",
    "\n",
    "print(\"a1:\", end = '\\t\\t')\n",
    "print(a1)\n",
    "print(\"a2:\", end = '\\t\\t')\n",
    "print(a2)\n",
    "print(\"\\n\")\n",
    "\n",
    "print(\"a1+a2:\", end = '\\t\\t')\n",
    "print(torch.add(a1, a2))\n",
    "print(\"a1-a2:\", end = '\\t\\t')\n",
    "print(torch.sub(a1, a2))\n",
    "print(\"a1*a2:\", end = '\\t\\t') #행렬의 곱이 아니라 같은 위치 원소끼리의 스칼라 곱; 원소단위곱 혹은 아르마다곱이라고 한다.\n",
    "print(torch.mul(a1, a2))\n",
    "print(\"a1/a2:\", end = '\\t\\t')\n",
    "print(torch.div(a1, a2))\n",
    "print(\"a1 + scalar 2:\", end = '\\t')\n",
    "print(a1 + 2)\n",
    "print(\"a2 + vector-3:\", end = '\\t')\n",
    "print(a2 - 3)\n",
    "print(\"a1 dot a2: \", end = '\\t') # 벡터의 곱셈(내적), 여기서는 7x3 + 8x4 + 9x5 = 98이다.\n",
    "print(a1.dot(a2))\n",
    "\n"
   ]
  },
  {
   "cell_type": "code",
   "execution_count": 55,
   "metadata": {},
   "outputs": [
    {
     "name": "stdout",
     "output_type": "stream",
     "text": [
      "tensor([[1., 4.],\n",
      "        [2., 5.],\n",
      "        [3., 6.]])\n",
      "tensor([[ 7.,  9.],\n",
      "        [ 8., 10.]])\n",
      "tensor([[39., 49.],\n",
      "        [54., 68.],\n",
      "        [69., 87.]])\n"
     ]
    }
   ],
   "source": [
    "a3 = torch.Tensor([[1,4],[2,5],[3,6]])\n",
    "a4 = torch.Tensor([[7,9],[8,10]])\n",
    "\n",
    "print(a3)\n",
    "print(a4)\n",
    "print(\"\\n\")\n",
    "\n",
    "print(torch.mm(a3, a4)) # 행렬의 곱 결과"
   ]
  }
 ],
 "metadata": {
  "kernelspec": {
   "display_name": "Python(torchenv)",
   "language": "python",
   "name": "torchenv"
  },
  "language_info": {
   "codemirror_mode": {
    "name": "ipython",
    "version": 3
   },
   "file_extension": ".py",
   "mimetype": "text/x-python",
   "name": "python",
   "nbconvert_exporter": "python",
   "pygments_lexer": "ipython3",
   "version": "3.7.5"
  }
 },
 "nbformat": 4,
 "nbformat_minor": 2
}
