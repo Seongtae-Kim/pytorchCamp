{
 "cells": [
  {
   "cell_type": "code",
   "execution_count": 1,
   "metadata": {},
   "outputs": [],
   "source": [
    "# 2.2.1. Tensor /20191226\n",
    "import torch, numpy as np, matplotlib.pyplot as plt"
   ]
  },
  {
   "cell_type": "code",
   "execution_count": 2,
   "metadata": {},
   "outputs": [
    {
     "name": "stdout",
     "output_type": "stream",
     "text": [
      "tensor([[1., 2., 3.],\n",
      "        [4., 5., 6.]])\n"
     ]
    },
    {
     "data": {
      "text/plain": [
       "<matplotlib.image.AxesImage at 0x7f81f6d6a7d0>"
      ]
     },
     "execution_count": 2,
     "metadata": {},
     "output_type": "execute_result"
    },
    {
     "data": {
      "image/png": "[encoded data removed]",
      "text/plain": [
       "<Figure size 432x288 with 1 Axes>"
      ]
     },
     "metadata": {
      "needs_background": "light"
     },
     "output_type": "display_data"
    }
   ],
   "source": [
    "# Creating Tensor / p.71\n",
    "#--------------------------------------------------\n",
    "\n",
    "# list로부터 2x3 텐서 생성\n",
    "x_list = [[1,2,3], [4,5,6]]\n",
    "x = torch.Tensor(x_list)\n",
    "print(x)\n",
    "plt.imshow(x)"
   ]
  },
  {
   "cell_type": "code",
   "execution_count": 3,
   "metadata": {},
   "outputs": [
    {
     "name": "stdout",
     "output_type": "stream",
     "text": [
      "tensor([[9., 6., 1.],\n",
      "        [5., 3., 2.]])\n"
     ]
    },
    {
     "data": {
      "text/plain": [
       "<matplotlib.image.AxesImage at 0x7f81f6c9e0d0>"
      ]
     },
     "execution_count": 3,
     "metadata": {},
     "output_type": "execute_result"
    },
    {
     "data": {
      "image/png": "[encoded data removed]",
      "text/plain": [
       "<Figure size 432x288 with 1 Axes>"
      ]
     },
     "metadata": {
      "needs_background": "light"
     },
     "output_type": "display_data"
    }
   ],
   "source": [
    "# numpy array로부터 2x3 텐서 생성\n",
    "x_numpy = np.array([[1, 2, 3],[4, 5, 6]])\n",
    "x = torch.Tensor(np.array([[9, 6, 1],[5, 3, 2]]))\n",
    "print(x)\n",
    "plt.imshow(x_numpy)"
   ]
  },
  {
   "cell_type": "code",
   "execution_count": 4,
   "metadata": {},
   "outputs": [
    {
     "name": "stdout",
     "output_type": "stream",
     "text": [
      "<class 'list'>\n",
      "<class 'numpy.ndarray'>\n"
     ]
    }
   ],
   "source": [
    "# .tolist() ---> list타입으로 형변환\n",
    "x_back2list =x.tolist()\n",
    "print(type(x_back2list))\n",
    "\n",
    "# .numpy() ---> numpy타입으로 형변환\n",
    "x_back2numpy = x.numpy()\n",
    "print(type(x_back2numpy))"
   ]
  },
  {
   "cell_type": "code",
   "execution_count": 5,
   "metadata": {},
   "outputs": [
    {
     "name": "stdout",
     "output_type": "stream",
     "text": [
      "cpu\n",
      "cuda:0\n",
      "cpu\n"
     ]
    }
   ],
   "source": [
    "# 기본적으로 텐서 생성시 CPU의 상태 디바이스 정보를 포함한다.\n",
    "print(x.device)\n",
    "\n",
    "#cuda를 사용할 수 없을 경우(Colab 외부)설치\n",
    "device = torch.device(\"cuda\" if torch.cuda.is_available() else \"error\")\n",
    "#GPU 사용\n",
    "x = x.to(device)\n",
    "print(x.device)\n",
    "\n",
    "device='cpu'\n",
    "#CPU 사용\n",
    "x = x.to(device)\n",
    "print(x.device)"
   ]
  },
  {
   "cell_type": "code",
   "execution_count": 6,
   "metadata": {},
   "outputs": [
    {
     "name": "stdout",
     "output_type": "stream",
     "text": [
      "tensor([[0.1591, 0.5897, 0.7913],\n",
      "        [0.5749, 0.5506, 0.4121]])\n"
     ]
    },
    {
     "data": {
      "text/plain": [
       "<matplotlib.image.AxesImage at 0x7f81ee0115d0>"
      ]
     },
     "execution_count": 6,
     "metadata": {},
     "output_type": "execute_result"
    },
    {
     "data": {
      "image/png": "[encoded data removed]",
      "text/plain": [
       "<Figure size 432x288 with 1 Axes>"
      ]
     },
     "metadata": {
      "needs_background": "light"
     },
     "output_type": "display_data"
    }
   ],
   "source": [
    "#랜덤 숫자로 구성된 크기가 2x3인 텐서 생성\n",
    "#0과 1사이의 랜덤한 숫자\n",
    "twoThree = torch.rand(2,3)\n",
    "print(twoThree)\n",
    "plt.imshow(twoThree)"
   ]
  },
  {
   "cell_type": "code",
   "execution_count": 7,
   "metadata": {},
   "outputs": [
    {
     "name": "stdout",
     "output_type": "stream",
     "text": [
      "tensor([[6, 6, 5],\n",
      "        [7, 5, 2]])\n"
     ]
    },
    {
     "data": {
      "text/plain": [
       "<matplotlib.image.AxesImage at 0x7f81edf7b190>"
      ]
     },
     "execution_count": 7,
     "metadata": {},
     "output_type": "execute_result"
    },
    {
     "data": {
      "image/png": "[encoded data removed]",
      "text/plain": [
       "<Figure size 432x288 with 1 Axes>"
      ]
     },
     "metadata": {
      "needs_background": "light"
     },
     "output_type": "display_data"
    }
   ],
   "source": [
    "# 0과 8사이의 정수형 랜덤한 숫자\n",
    "random = torch.randint(low=0, high=8, size=(2,3))\n",
    "print(random)\n",
    "plt.imshow(random)"
   ]
  },
  {
   "cell_type": "code",
   "execution_count": 8,
   "metadata": {},
   "outputs": [
    {
     "name": "stdout",
     "output_type": "stream",
     "text": [
      "cuda:0\n",
      "tensor([[0., 0., 0.],\n",
      "        [0., 0., 0.]], device='cuda:0')\n"
     ]
    },
    {
     "data": {
      "text/plain": [
       "<matplotlib.image.AxesImage at 0x7f81f6c9e250>"
      ]
     },
     "execution_count": 8,
     "metadata": {},
     "output_type": "execute_result"
    },
    {
     "data": {
      "image/png": "[encoded data removed]",
      "text/plain": [
       "<Figure size 432x288 with 1 Axes>"
      ]
     },
     "metadata": {
      "needs_background": "light"
     },
     "output_type": "display_data"
    }
   ],
   "source": [
    "# GPU를 사용하고 크기가 x와 같은 0으로 채워진 텐서 생성\n",
    "x_zeros = torch.zeros_like(x.cuda())\n",
    "print(x_zeros.device)\n",
    "print(x_zeros)\n",
    "plt.imshow(x_zeros.tolist()) # numpy 형이기 때문에 표시를 위해 list로 형변환"
   ]
  },
  {
   "cell_type": "code",
   "execution_count": 9,
   "metadata": {},
   "outputs": [
    {
     "name": "stdout",
     "output_type": "stream",
     "text": [
      "torch.FloatTensor\n",
      "tensor([[3.1400, 1.5920, 2.3000],\n",
      "        [4.2000, 5.1000, 6.6000]])\n",
      "torch.LongTensor\n",
      "tensor([[1, 2, 3],\n",
      "        [4, 5, 6]])\n",
      "torch.ByteTensor\n",
      "tensor([1, 0, 1, 1], dtype=torch.uint8)\n"
     ]
    }
   ],
   "source": [
    "# Types of Tensor / p.73\n",
    "#--------------------------------------------------\n",
    "\n",
    "#실수형 텐서\n",
    "a = torch.FloatTensor(np.array([[3.14, 1.592, 2.3],[4.2, 5.1, 6.6]])) # 실수형이기 때문에 소숫점 표기\n",
    "print(a.type())\n",
    "print(a)\n",
    "\n",
    "#정수형 텐서\n",
    "b = torch.LongTensor(np.array([[1, 2, 3],[4, 5, 6]]))\n",
    "print(b.type())\n",
    "print(b)\n",
    "\n",
    "#8 bit 정수형 텐기\n",
    "c = torch.ByteTensor(np.array([True, False, True, True]))\n",
    "print(c.type())\n",
    "print(c)\n"
   ]
  },
  {
   "cell_type": "code",
   "execution_count": 10,
   "metadata": {},
   "outputs": [
    {
     "name": "stdout",
     "output_type": "stream",
     "text": [
      "tensor([[[5, 9, 1, 8],\n",
      "         [5, 7, 7, 7],\n",
      "         [3, 4, 1, 7]],\n",
      "\n",
      "        [[2, 0, 6, 3],\n",
      "         [2, 3, 0, 0],\n",
      "         [9, 5, 4, 2]]])\n"
     ]
    },
    {
     "data": {
      "image/png": "[encoded data removed]",
      "text/plain": [
       "<Figure size 720x720 with 2 Axes>"
      ]
     },
     "metadata": {
      "needs_background": "light"
     },
     "output_type": "display_data"
    }
   ],
   "source": [
    "#Manipulation of Tensor / p.74\n",
    "# 1. Element selection: Slicing\n",
    "#--------------------------------------------------\n",
    "\n",
    "torch.manual_seed(777)\n",
    "threeDList = torch.randint(0, 10, size=(2, 3, 4))\n",
    "print(threeDList)\n",
    "\n",
    "#print(len(threeDList[0][0])) # 열 개수\n",
    "#print(len(threeDList[0])) # 행 개수\n",
    "#print(len(threeDList)) # 면 개수\n",
    "\n",
    "d1 = [[0 for x in range(len(threeDList[0][0]))] for y in range(len(threeDList[0]))]\n",
    "d2 = [[0 for x in range(len(threeDList[0][0]))] for y in range(len(threeDList[0]))]\n",
    "\n",
    "# 2차원 리스트로 분리\n",
    "for i in range(len(threeDList)): # 면\n",
    "  for j in range(len(threeDList[0])): # 행\n",
    "    for k in range(len(threeDList[0][0])): # 열\n",
    "      if(i == 0):\n",
    "        d1[j][k] = threeDList[i][j][k]\n",
    "      elif(i == 1):\n",
    "        d2[j][k] = threeDList[i][j][k]\n",
    "    \n",
    "\n",
    "d1 = torch.Tensor(d1)\n",
    "d2 = torch.Tensor(d2)\n",
    "\n",
    "\n",
    "# 2차원 텐서를 나란히 표시\n",
    "fig = plt.figure(figsize=(10,10))\n",
    "fig.add_subplot(1, 2, 1)\n",
    "plt.imshow(d1)\n",
    "fig.add_subplot(1, 2, 2)\n",
    "plt.imshow(d2)\n",
    "plt.show()\n"
   ]
  },
  {
   "cell_type": "code",
   "execution_count": 11,
   "metadata": {},
   "outputs": [
    {
     "name": "stdout",
     "output_type": "stream",
     "text": [
      "tensor([[0.9411, 0.9180, 0.8952],\n",
      "        [0.4341, 0.1523, 0.3154]])\n",
      "tensor([[0.3771, 0.6166, 0.5355],\n",
      "        [0.9970, 0.3777, 0.9541]])\n",
      "tensor([[0.9411, 0.9180, 0.8952],\n",
      "        [0.4341, 0.1523, 0.3154],\n",
      "        [0.3771, 0.6166, 0.5355],\n",
      "        [0.9970, 0.3777, 0.9541]])\n"
     ]
    }
   ],
   "source": [
    "A = torch.rand((2, 3))\n",
    "print(A)\n",
    "B = torch.rand((2, 3))\n",
    "print(B)\n",
    "AB_cated = torch.cat([A, B], dim=0)\n",
    "print(AB_cated)"
   ]
  }
 ],
 "metadata": {
  "kernelspec": {
   "display_name": "Python(torchenv)",
   "language": "python",
   "name": "torchenv"
  },
  "language_info": {
   "codemirror_mode": {
    "name": "ipython",
    "version": 3
   },
   "file_extension": ".py",
   "mimetype": "text/x-python",
   "name": "python",
   "nbconvert_exporter": "python",
   "pygments_lexer": "ipython3",
   "version": "3.7.5"
  }
 },
 "nbformat": 4,
 "nbformat_minor": 2
}
